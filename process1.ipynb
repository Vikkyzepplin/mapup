{
 "cells": [
  {
   "cell_type": "markdown",
   "metadata": {},
   "source": [
    "#### Comments:\n",
    "##### Function will create files with unit_tripnumber which starts with 0 for each user and increments \n",
    "\n"
   ]
  },
  {
   "cell_type": "code",
   "execution_count": null,
   "metadata": {},
   "outputs": [],
   "source": [
    "import pandas as pd\n",
    "from datetime import datetime, timedelta\n",
    "import os\n",
    "import argparse"
   ]
  },
  {
   "cell_type": "code",
   "execution_count": 17,
   "metadata": {},
   "outputs": [],
   "source": [
    "def extract_data(to_process,output_path):   \n",
    "    df=pd.read_parquet(to_process)\n",
    "    df['timestamp'] = pd.to_datetime(df['timestamp'], errors='coerce')\n",
    "    df['timestamp_diff']=df.groupby('unit')['timestamp'].diff().dt.components['hours'].reset_index(drop=True)\n",
    "    trip_number=0\n",
    "    temp=0\n",
    "    for i,x in df.iterrows():\n",
    "        current_trip = pd.DataFrame()\n",
    "        if x['timestamp_diff']>7:\n",
    "            unit=x['unit']\n",
    "            if i==0:\n",
    "                temp=unit\n",
    "            if unit!=temp:\n",
    "                trip_number=0\n",
    "                temp=unit\n",
    "            x=pd.DataFrame(x).T\n",
    "            current_trip=pd.concat([current_trip,x]).reset_index(drop=True)\n",
    "            current_trip['timestamp'] = current_trip['timestamp'].apply(lambda x: x.strftime('%Y-%m-%dT%H:%M:%SZ'))\n",
    "            current_trip.drop('timestamp_diff',axis=1,inplace=True)\n",
    "            path=output_path\n",
    "            file=f'{unit}_{trip_number}.csv'\n",
    "            current_trip.to_csv(os.path.join(output_path, file), index=False)\n",
    "            trip_number += 1\n"
   ]
  },
  {
   "cell_type": "code",
   "execution_count": 18,
   "metadata": {},
   "outputs": [],
   "source": [
    "extract_data('E:\\VS code\\data','E:\\\\VS code\\\\results')"
   ]
  },
  {
   "cell_type": "markdown",
   "metadata": {},
   "source": [
    "### Testing for one CSV"
   ]
  },
  {
   "cell_type": "code",
   "execution_count": null,
   "metadata": {},
   "outputs": [
    {
     "name": "stdout",
     "output_type": "stream",
     "text": [
      "403\n",
      "{'status': 403, 'message': 'Request denied. No active subscription found'}\n"
     ]
    }
   ],
   "source": [
    "import os\n",
    "import requests\n",
    "from dotenv import load_dotenv\n",
    "\n",
    "# Load API key from environment variables\n",
    "load_dotenv()\n",
    "api_key = os.getenv(\"TOLLGURU_API_KEY\")\n",
    "\n",
    "url = f'https://apis.tollguru.com/toll/v2/gps-tracks-csv-upload?mapProvider=osrm&vehicleType=5AxlesTruck'\n",
    "file_path = 'E:\\\\VS code\\\\results\\\\1000_0.csv'\n",
    "headers = {'x-api-key': api_key, 'Content-Type': 'text/csv'}\n",
    "\n",
    "with open(file_path, 'rb') as file:\n",
    "    response = requests.post(url, data=file, headers=headers)\n",
    "    print(response.status_code)\n",
    "    print(response.json())"
   ]
  },
  {
   "cell_type": "markdown",
   "metadata": {},
   "source": [
    "### Function to iter over csv"
   ]
  },
  {
   "cell_type": "code",
   "execution_count": null,
   "metadata": {},
   "outputs": [],
   "source": [
    "TOLLGURU_API_KEY = os.getenv('TOLLGURU_API_KEY')\n",
    "TOLLGURU_API_URL = os.getenv('TOLLGURU_API_URL', 'https://apis.tollguru.com/toll/v2/gps-tracks-csv-upload?mapProvider=osrm&vehicleType=5AxlesTruck')\n",
    "\n",
    "def send_request(file_path, output_dir):\n",
    "    with open(file_path, 'rb') as file:\n",
    "        headers = {'x-api-key': TOLLGURU_API_KEY, 'Content-Type': 'text/csv'}\n",
    "        response = requests.post(TOLLGURU_API_URL, data=file, headers=headers)\n",
    "        filename = os.path.basename(file_path)\n",
    "        json_output_path = os.path.join(output_dir, f\"{os.path.splitext(filename)[0]}.json\")\n",
    "        with open(json_output_path, 'w') as json_file:\n",
    "            json_file.write(response.text)"
   ]
  },
  {
   "cell_type": "code",
   "execution_count": 71,
   "metadata": {},
   "outputs": [],
   "source": [
    "send_request('E:\\\\VS code\\\\results\\\\1000_0.csv','E:\\\\VS code\\\\results')"
   ]
  },
  {
   "cell_type": "markdown",
   "metadata": {},
   "source": [
    "Comment fr Proocess 2 <br>\n",
    "Keep Getting this error , couldn't proceed further.<br>\n",
    "403\n",
    "{'status': 403, 'message': 'Request denied. No active subscription found'}<br>\n",
    "I have created and account in tollguru and got the correct apikey not sure why I'm getting no active subscripion"
   ]
  },
  {
   "cell_type": "code",
   "execution_count": null,
   "metadata": {},
   "outputs": [],
   "source": [
    "input_dir = \"E:\\\\VS code\\\\results\"  # Update this to your directory containing CSV files\n",
    "output_dir = \"E:\\\\VS code\\\\results\"  # Update this to your desired output directory\n",
    "\n",
    "csv_files = [f for f in os.listdir(input_dir) if f.endswith('.csv')]\n",
    "\n",
    "for csv_file in csv_files:\n",
    "    file_path = os.path.join(input_dir, csv_file)\n",
    "    send_request(file_path, output_dir)"
   ]
  }
 ],
 "metadata": {
  "kernelspec": {
   "display_name": "Python 3",
   "language": "python",
   "name": "python3"
  },
  "language_info": {
   "codemirror_mode": {
    "name": "ipython",
    "version": 3
   },
   "file_extension": ".py",
   "mimetype": "text/x-python",
   "name": "python",
   "nbconvert_exporter": "python",
   "pygments_lexer": "ipython3",
   "version": "3.11.7"
  }
 },
 "nbformat": 4,
 "nbformat_minor": 2
}
